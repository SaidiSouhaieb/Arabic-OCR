{
 "cells": [
  {
   "cell_type": "markdown",
   "metadata": {},
   "source": [
    "# Data PreProcessing"
   ]
  },
  {
   "cell_type": "code",
   "execution_count": null,
   "metadata": {},
   "outputs": [],
   "source": [
    "import os\n",
    "import re\n",
    "import glob\n",
    "import shutil\n"
   ]
  },
  {
   "cell_type": "code",
   "execution_count": null,
   "metadata": {},
   "outputs": [],
   "source": [
    "# Moving image data to seperate folders based on alphabet character\n",
    "train_images_path = \"datasets/handwritten_arabic/Train Images 13440x32x32/train\"\n",
    "train_save_path = \"datasets/train/\"\n",
    "i = 0\n",
    "for image_name in os.listdir(train_images_path):\n",
    "  number_finder_regex = re.compile(\"_(\\d+)\\.png\")\n",
    "  character_number = number_finder_regex.search(image_name).group()[1:-4].strip()\n",
    "  new_full_path = train_save_path + character_number\n",
    "  if not os.path.exists(new_full_path):\n",
    "    os.mkdir(train_save_path + character_number)\n",
    "  else:\n",
    "    pass\n",
    "  shutil.move(train_images_path + \"/\" + image_name, new_full_path + \"/\" + str(i) + \".png\")\n",
    "  i += 1"
   ]
  },
  {
   "cell_type": "code",
   "execution_count": null,
   "metadata": {},
   "outputs": [],
   "source": [
    "# Correcting image names\n",
    "train_save_path = \"datasets/train/\"\n",
    "for folder_name in range(1, 29):\n",
    "  i = 0\n",
    "  for image_name in os.listdir(train_save_path + str(folder_name) + \"/\"):\n",
    "    os.rename(train_save_path + str(folder_name) + \"/\" + image_name, train_save_path + str(folder_name) + \"/\" + str(i) + \".png\")\n",
    "    i += 1"
   ]
  },
  {
   "cell_type": "code",
   "execution_count": 24,
   "metadata": {},
   "outputs": [
    {
     "name": "stdout",
     "output_type": "stream",
     "text": [
      "Folder:1 470\n",
      "Folder:2 472\n",
      "Folder:3 473\n",
      "Folder:4 472\n",
      "Folder:5 473\n",
      "Folder:6 473\n",
      "Folder:7 471\n",
      "Folder:8 472\n",
      "Folder:9 469\n",
      "Folder:10 471\n",
      "Folder:11 470\n",
      "Folder:12 472\n",
      "Folder:13 473\n",
      "Folder:14 465\n",
      "Folder:15 475\n",
      "Folder:16 471\n",
      "Folder:17 467\n",
      "Folder:18 473\n",
      "Folder:19 469\n",
      "Folder:20 471\n",
      "Folder:21 473\n",
      "Folder:22 473\n",
      "Folder:23 471\n",
      "Folder:24 477\n",
      "Folder:25 470\n",
      "Folder:26 468\n",
      "Folder:27 471\n",
      "Folder:28 465\n"
     ]
    }
   ],
   "source": [
    "# Number of files per directory\n",
    "for folder_name in range(1, 29):\n",
    "  path = \"datasets/train/\" + str(folder_name) \n",
    "  print(\"Folder:\" + str(folder_name) + \" \" +  str(len([name for name in os.listdir(path) if os.path.isfile(os.path.join(path, name))])))"
   ]
  },
  {
   "cell_type": "code",
   "execution_count": null,
   "metadata": {},
   "outputs": [],
   "source": []
  }
 ],
 "metadata": {
  "kernelspec": {
   "display_name": "env",
   "language": "python",
   "name": "python3"
  },
  "language_info": {
   "codemirror_mode": {
    "name": "ipython",
    "version": 3
   },
   "file_extension": ".py",
   "mimetype": "text/x-python",
   "name": "python",
   "nbconvert_exporter": "python",
   "pygments_lexer": "ipython3",
   "version": "3.12.2"
  },
  "orig_nbformat": 4
 },
 "nbformat": 4,
 "nbformat_minor": 2
}
